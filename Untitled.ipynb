{
 "cells": [
  {
   "cell_type": "code",
   "execution_count": 3,
   "id": "babb9d7b-70b0-4558-aba4-16748e3f51fb",
   "metadata": {},
   "outputs": [
    {
     "name": "stdout",
     "output_type": "stream",
     "text": [
      "   CustomerID  InvoiceNo StockCode  Quantity InvoiceDate  UnitPrice  \\\n",
      "0       12345          1         A         2  2024-01-01        1.5   \n",
      "1       12345          2         B         3  2024-01-02        2.0   \n",
      "2       12345          3         A        -1  2024-01-03        1.5   \n",
      "3       67890          4         C         1  2024-01-04        3.0   \n",
      "4       67890          5         B        -2  2024-01-05        2.0   \n",
      "\n",
      "   TotalPrice  \n",
      "0         3.0  \n",
      "1         6.0  \n",
      "2        -1.5  \n",
      "3         3.0  \n",
      "4        -4.0  \n"
     ]
    }
   ],
   "source": [
    "import pandas as pd\n",
    "\n",
    "# Sample data\n",
    "data = {\n",
    "    'CustomerID': [12345, 12345, 12345, 67890, 67890],\n",
    "    'InvoiceNo': [1, 2, 3, 4, 5],\n",
    "    'StockCode': ['A', 'B', 'A', 'C', 'B'],\n",
    "    'Quantity': [2, 3, -1, 1, -2],\n",
    "    'InvoiceDate': ['2024-01-01', '2024-01-02', '2024-01-03', '2024-01-04', '2024-01-05'],\n",
    "    'UnitPrice': [1.5, 2.0, 1.5, 3.0, 2.0]\n",
    "}\n",
    "\n",
    "# Create DataFrame\n",
    "df = pd.DataFrame(data)\n",
    "df['InvoiceDate'] = pd.to_datetime(df['InvoiceDate'])\n",
    "\n",
    "# Calculate TotalPrice\n",
    "df['TotalPrice'] = df['Quantity'] * df['UnitPrice']\n",
    "\n",
    "print(df)\n"
   ]
  },
  {
   "cell_type": "code",
   "execution_count": 4,
   "id": "5326ea16-c5d8-4e40-b550-e4d75d6c7b69",
   "metadata": {},
   "outputs": [
    {
     "data": {
      "text/html": [
       "<div>\n",
       "<style scoped>\n",
       "    .dataframe tbody tr th:only-of-type {\n",
       "        vertical-align: middle;\n",
       "    }\n",
       "\n",
       "    .dataframe tbody tr th {\n",
       "        vertical-align: top;\n",
       "    }\n",
       "\n",
       "    .dataframe thead th {\n",
       "        text-align: right;\n",
       "    }\n",
       "</style>\n",
       "<table border=\"1\" class=\"dataframe\">\n",
       "  <thead>\n",
       "    <tr style=\"text-align: right;\">\n",
       "      <th></th>\n",
       "      <th>CustomerID</th>\n",
       "      <th>InvoiceNo</th>\n",
       "      <th>Basket Price</th>\n",
       "      <th>InvoiceDate</th>\n",
       "    </tr>\n",
       "  </thead>\n",
       "  <tbody>\n",
       "    <tr>\n",
       "      <th>0</th>\n",
       "      <td>12345</td>\n",
       "      <td>1</td>\n",
       "      <td>3.0</td>\n",
       "      <td>2024-01-01</td>\n",
       "    </tr>\n",
       "    <tr>\n",
       "      <th>1</th>\n",
       "      <td>12345</td>\n",
       "      <td>2</td>\n",
       "      <td>6.0</td>\n",
       "      <td>2024-01-02</td>\n",
       "    </tr>\n",
       "    <tr>\n",
       "      <th>3</th>\n",
       "      <td>67890</td>\n",
       "      <td>4</td>\n",
       "      <td>3.0</td>\n",
       "      <td>2024-01-04</td>\n",
       "    </tr>\n",
       "  </tbody>\n",
       "</table>\n",
       "</div>"
      ],
      "text/plain": [
       "   CustomerID  InvoiceNo  Basket Price InvoiceDate\n",
       "0       12345          1           3.0  2024-01-01\n",
       "1       12345          2           6.0  2024-01-02\n",
       "3       67890          4           3.0  2024-01-04"
      ]
     },
     "execution_count": 4,
     "metadata": {},
     "output_type": "execute_result"
    }
   ],
   "source": [
    "# Step 1: Group by CustomerID and InvoiceNo, sum the TotalPrice\n",
    "temp = df.groupby(by=['CustomerID', 'InvoiceNo'], as_index=False)['TotalPrice'].sum()\n",
    "basket_price = temp.rename(columns = {'TotalPrice':'Basket Price'})\n",
    "\n",
    "# Step 2: Calculate the mean invoice date for each CustomerID and InvoiceNo combination\n",
    "df['InvoiceDate_int'] = df['InvoiceDate'].astype('int64')\n",
    "temp = df.groupby(by=['CustomerID', 'InvoiceNo'], as_index=False)['InvoiceDate_int'].mean()\n",
    "df.drop('InvoiceDate_int', axis = 1, inplace = True)\n",
    "basket_price.loc[:, 'InvoiceDate'] = pd.to_datetime(temp['InvoiceDate_int'])\n",
    "\n",
    "# Step 3: Filter out entries with Basket Price less than or equal to 0\n",
    "basket_price = basket_price[basket_price['Basket Price'] > 0]\n",
    "\n",
    "# Step 4: Sort and display the results\n",
    "basket_price.sort_values('CustomerID')[:6]\n"
   ]
  },
  {
   "cell_type": "code",
   "execution_count": 5,
   "id": "e3f869bc-3c7f-40f4-bb12-ace3969dc95b",
   "metadata": {},
   "outputs": [
    {
     "data": {
      "text/html": [
       "<div>\n",
       "<style scoped>\n",
       "    .dataframe tbody tr th:only-of-type {\n",
       "        vertical-align: middle;\n",
       "    }\n",
       "\n",
       "    .dataframe tbody tr th {\n",
       "        vertical-align: top;\n",
       "    }\n",
       "\n",
       "    .dataframe thead th {\n",
       "        text-align: right;\n",
       "    }\n",
       "</style>\n",
       "<table border=\"1\" class=\"dataframe\">\n",
       "  <thead>\n",
       "    <tr style=\"text-align: right;\">\n",
       "      <th></th>\n",
       "      <th>CustomerID</th>\n",
       "      <th>InvoiceNo</th>\n",
       "      <th>InvoiceDate_int</th>\n",
       "    </tr>\n",
       "  </thead>\n",
       "  <tbody>\n",
       "    <tr>\n",
       "      <th>0</th>\n",
       "      <td>12345</td>\n",
       "      <td>1</td>\n",
       "      <td>1.704067e+18</td>\n",
       "    </tr>\n",
       "    <tr>\n",
       "      <th>1</th>\n",
       "      <td>12345</td>\n",
       "      <td>2</td>\n",
       "      <td>1.704154e+18</td>\n",
       "    </tr>\n",
       "    <tr>\n",
       "      <th>2</th>\n",
       "      <td>12345</td>\n",
       "      <td>3</td>\n",
       "      <td>1.704240e+18</td>\n",
       "    </tr>\n",
       "    <tr>\n",
       "      <th>3</th>\n",
       "      <td>67890</td>\n",
       "      <td>4</td>\n",
       "      <td>1.704326e+18</td>\n",
       "    </tr>\n",
       "    <tr>\n",
       "      <th>4</th>\n",
       "      <td>67890</td>\n",
       "      <td>5</td>\n",
       "      <td>1.704413e+18</td>\n",
       "    </tr>\n",
       "  </tbody>\n",
       "</table>\n",
       "</div>"
      ],
      "text/plain": [
       "   CustomerID  InvoiceNo  InvoiceDate_int\n",
       "0       12345          1     1.704067e+18\n",
       "1       12345          2     1.704154e+18\n",
       "2       12345          3     1.704240e+18\n",
       "3       67890          4     1.704326e+18\n",
       "4       67890          5     1.704413e+18"
      ]
     },
     "execution_count": 5,
     "metadata": {},
     "output_type": "execute_result"
    }
   ],
   "source": [
    "temp"
   ]
  },
  {
   "cell_type": "code",
   "execution_count": null,
   "id": "3f936a57-0659-4e28-9c2e-da3497d5430e",
   "metadata": {},
   "outputs": [],
   "source": [
    "#____________________\n",
    "# Décompte des achats\n",
    "price_range = [0, 50, 100, 200, 500, 1000, 5000, 50000]\n",
    "count_price = []\n",
    "for i, price in enumerate(price_range):\n",
    "    if i == 0: continue\n",
    "    val = basket_price[(basket_price['Basket Price'] < price) &\n",
    "                       (basket_price['Basket Price'] > price_range[i-1])]['Basket Price'].count()\n",
    "    count_price.append(val)\n",
    "#____________________________________________\n",
    "# Représentation du nombre d'achats / montant        \n",
    "plt.rc('font', weight='bold')\n",
    "f, ax = plt.subplots(figsize=(11, 6))\n",
    "colors = ['yellowgreen', 'gold', 'wheat', 'c', 'violet', 'royalblue','firebrick']\n",
    "labels = [ '{}<.<{}'.format(price_range[i-1], s) for i,s in enumerate(price_range) if i != 0]\n",
    "sizes  = count_price\n",
    "explode = [0.0 if sizes[i] < 100 else 0.0 for i in range(len(sizes))]\n",
    "ax.pie(sizes, explode = explode, labels=labels, colors = colors,\n",
    "       autopct = lambda x:'{:1.0f}%'.format(x) if x > 1 else '',\n",
    "       shadow = False, startangle=0)\n",
    "ax.axis('equal')\n",
    "f.text(0.5, 1.01, \"Répartition des montants des commandes\", ha='center', fontsize = 18);"
   ]
  }
 ],
 "metadata": {
  "kernelspec": {
   "display_name": "Python 3 (ipykernel)",
   "language": "python",
   "name": "python3"
  },
  "language_info": {
   "codemirror_mode": {
    "name": "ipython",
    "version": 3
   },
   "file_extension": ".py",
   "mimetype": "text/x-python",
   "name": "python",
   "nbconvert_exporter": "python",
   "pygments_lexer": "ipython3",
   "version": "3.11.5"
  }
 },
 "nbformat": 4,
 "nbformat_minor": 5
}
